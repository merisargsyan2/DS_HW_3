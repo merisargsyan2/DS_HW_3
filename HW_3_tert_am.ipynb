{
 "cells": [
  {
   "cell_type": "code",
   "execution_count": 1,
   "metadata": {},
   "outputs": [],
   "source": [
    "import re\n",
    "import requests\n",
    "from scrapy.http import TextResponse\n",
    "from textblob import TextBlob,Word\n",
    "import pandas as pd\n",
    "import nltk\n",
    "from nltk.corpus import stopwords,wordnet\n",
    "from nltk.tokenize import sent_tokenize, word_tokenize\n",
    "from nltk.stem import PorterStemmer, WordNetLemmatizer\n",
    "from collections import Counter"
   ]
  },
  {
   "cell_type": "code",
   "execution_count": 2,
   "metadata": {},
   "outputs": [],
   "source": [
    "url = \"https://www.tert.am/en\""
   ]
  },
  {
   "cell_type": "code",
   "execution_count": 3,
   "metadata": {},
   "outputs": [],
   "source": [
    "page = requests.get(url)"
   ]
  },
  {
   "cell_type": "code",
   "execution_count": 4,
   "metadata": {},
   "outputs": [],
   "source": [
    "response = TextResponse(url= page.url,body=page.text,encoding =\"utf-8\")"
   ]
  },
  {
   "cell_type": "code",
   "execution_count": 5,
   "metadata": {},
   "outputs": [],
   "source": [
    "news = response.css(\"ul[class='list list--with-scroll scroller-block show-link-visited']>li[class='list__item']>div>a>span[class='list__title db']::text\").extract()"
   ]
  },
  {
   "cell_type": "code",
   "execution_count": 6,
   "metadata": {
    "scrolled": true
   },
   "outputs": [
    {
     "data": {
      "text/plain": [
       "\"Yerevan-bound plane evacuated at Moscow airport due to 'strange smell'\""
      ]
     },
     "execution_count": 6,
     "metadata": {},
     "output_type": "execute_result"
    }
   ],
   "source": [
    "news[99]"
   ]
  },
  {
   "cell_type": "code",
   "execution_count": 7,
   "metadata": {},
   "outputs": [
    {
     "data": {
      "text/plain": [
       "100"
      ]
     },
     "execution_count": 7,
     "metadata": {},
     "output_type": "execute_result"
    }
   ],
   "source": [
    "len(news)"
   ]
  },
  {
   "cell_type": "code",
   "execution_count": 8,
   "metadata": {},
   "outputs": [],
   "source": [
    "pub_time = response.xpath('//span[@class=\"list__date db fb fs14\"]/text()').re(\"\\d*:\\d*\")  "
   ]
  },
  {
   "cell_type": "code",
   "execution_count": 9,
   "metadata": {},
   "outputs": [
    {
     "data": {
      "text/plain": [
       "'15:43'"
      ]
     },
     "execution_count": 9,
     "metadata": {},
     "output_type": "execute_result"
    }
   ],
   "source": [
    "pub_time[0]"
   ]
  },
  {
   "cell_type": "code",
   "execution_count": 10,
   "metadata": {},
   "outputs": [
    {
     "data": {
      "text/plain": [
       "100"
      ]
     },
     "execution_count": 10,
     "metadata": {},
     "output_type": "execute_result"
    }
   ],
   "source": [
    "len(pub_time)"
   ]
  },
  {
   "cell_type": "markdown",
   "metadata": {},
   "source": [
    "# 1-1 Top most frequent words are armenian, us, armenia and minister"
   ]
  },
  {
   "cell_type": "code",
   "execution_count": 11,
   "metadata": {},
   "outputs": [],
   "source": [
    "sw = stopwords.words(\"english\")"
   ]
  },
  {
   "cell_type": "code",
   "execution_count": 12,
   "metadata": {
    "scrolled": true
   },
   "outputs": [],
   "source": [
    "news_str = \"  \".join(news)"
   ]
  },
  {
   "cell_type": "code",
   "execution_count": 13,
   "metadata": {},
   "outputs": [],
   "source": [
    "news_blob = TextBlob(news_str)"
   ]
  },
  {
   "cell_type": "code",
   "execution_count": 14,
   "metadata": {},
   "outputs": [],
   "source": [
    "def replaceMultiple(old_str, element, newElement):\n",
    "    for i in element :\n",
    "        if i in old_str :\n",
    "            old_str = old_str.replace(i, newElement)\n",
    "    return  old_str"
   ]
  },
  {
   "cell_type": "code",
   "execution_count": 15,
   "metadata": {},
   "outputs": [],
   "source": [
    "news_blob = replaceMultiple(news_blob, [\"’\", \"‘\", \"'\",\",\",\":\",\"-\",\"–\",\"—\"] ,\"\")"
   ]
  },
  {
   "cell_type": "code",
   "execution_count": 16,
   "metadata": {
    "collapsed": true
   },
   "outputs": [
    {
     "data": {
      "text/plain": [
       "TextBlob(\"Oil on track for weekly gain as Iran tensions support  6yearold South Korean YouTuber buys $8 million property  Disagreements and problems must be the topic of our discussions but never the individuals  Armen Sarkissian  Palestinians to scrap agreements with Israel  Armenian authorities transitional justice plan extra threat to media  analyst\n",
       "   Foreign Ministry negotiating with Armenian Embassy to Egypt to arrange stranded tourists return  Iran fires ballistic missile 1000km in provocative test amid tensions with US and UK  Iranian smuggler arrested on Armenias customs border  Aravot Armenia US far from strategic dialogue says parliament member  Argentine boxer Hugo Santillan dies after boxing injuries  Armenian Genocide documentary nominated for Emmy  North Korea missile launch a warning to South Korean warmongers  Armenia to participate in Dubai EXPO 2020  French inventor crashes into water during failed flight across English Channel on 90mph Hoverboard  European court orders Armenia to pay €1600000 in compensation for citizens alienated property rights  Sevan Startup Summit to be open to public for the first time ever in 2019  Boris Johnson promises bold new Brexit deal  HurghadaYerevan flight canceled due to tour operators failure to pay fees  Tunisian President Beji Caid Essebsi dies aged 92  Armenian passengers stranded at Egyptian airport amid cancelled flight  Russian State Duma ratifies amendments to CSTO Charter  SpaceXs starhopper Rocket Prototype Aborts 1st Untethered Hop Attempt  Armenian parliamentary delegations meetings with top US legislators reflects Congress leaderships positive attitude  analyst\n",
       "   Jennifer Lopez given Porsche from her adoring fiance Alex Rodriguez as she celebrates milestone 50th birthday in Miami  North Korea fires new shortrange missile into sea South Korea says  Ardshinbank offers new terms for loans with real estate loans pledge  Armenian Georgian foreign ministers meet in Tbilisi  Armenian Iranian ministers discuss cooperation in IT sector\n",
       "   Rihanna shares photo of younger lookalike  Europe braces for second heatwave this summer  Iran vows to shoot down more US drones and mockingly portrays British Prime Minister Johnson as Trumps butler in escalating crisis  Russia starts largescale military exercise in Georgia  Kim Kardashian West saddened by photographers alleged misconduct  Nissan to cut over 10000 jobs globally  Nikes rare Moon Shoe sold for $437500 shattering the auction record for sneakers  Alibaba opens door to US sellers on its oldest platform  US and Turkey start Syria security zone talks  Queen Elizabeths favorite TV show revealed  Bohemian Rhapsody becomes the oldest video to get 1bn views  Supreme Judicial Council hosts members of UN expert group  Armenian arrested in Turkey on suspicion of smuggling  US Army Secretary Mark Esper sworn in as Pentagon chief  Messi banned fined for Copa America red card  Artsakh soldier fatally wounded in military post  Montreal School buses catches fire in 3vehicle crash dozens of children aboard\n",
       "         Warplanes from four countries involved in faceoff in Asian confrontation  US Senate extends 9/11 Victim Compensation Fund  Woburn elephants in Safari Park stay cool with ice sculpture likeness  Passengers stuck at Yerevan airport amid reports of cancelled flight to Sharm El Sheikh  Boris Johnson wins race to be Britains prime minister  Once Upon a Time in Hollywood premiers in Los Angeles  Russia to ease citizenship rules for Armenians  Ardshinbank publishes 2019 Q2 Results with record profit growth  Worlds shortest IQ test has 3 questions but 80% failure rate  Margaret Thatchers prized possessions emerge for sale in the U.S. for £30000  Armenian border village Included in EcoVillages Development Plan  Northern Ireland legislators back samesex marriage and law on abortion  Turkey ready to carry out another military operation in Syria if needed  Trump says he could win Afghan war in a week but doesnt want to kill 10 million people  Russia reports drastic increase in Armenian immigrants number  Football Liverpoollinked Fekir completes transfer to Real Betis  Azerbaijani brandy and wine products honoring Armenian cities  Venezuela blackout Power cuts plunge country into darkness  Venice Commission and European court enjoy advisory status without legally binding role  expert  Zhamanak Bright Armenia proposing plan to bridge legislative gap  Titanic survivors walking stick goes for $62500 at auction  If lowcost airlines come to Yerevan I would question the future of Gyumri Shirak Airport  Marcelo Wende  Arsenal offer Reiss Nelson on loan in £65m bid for Crystal Palace ace Wilfried Zaha  Armenia interesting country for investments says Israeli vlogger  Ardshinbank announces changes to supervisory board\n",
       "   Armenia education minister hosts delegation from to WeihenstephanTriesdorf University  Armenian defense minister pledges military surprises amid plans to purchase Russian fighters\n",
       "   Nikol Pashinyan We need efficient armybuilding to hit back at adversaries  Europe stocks gain; oil jumps on Middle East tensions  Avengers Endgame set to pass Avatar as top movie  Netanyahu named Israels longestserving prime minister\n",
       "   Switalski EU willing to offer Armenia measurable financial means to assist in justice reforms\n",
       "   UN nuclear watchdog chief Yukiya Amano dies  French inventor to attempt to cross Channel on jetpowered flyboard  Lightning strike at Florida beach leaves 8 injured  India set to reattempt Moon mission launch  Armed mob storms Hong Kong train station leaving city in shock  Ukrainian President Zelenskys party heads for win in presidential election  Politically motivated call for judiciary officials resignation unrelated to country governed by rule of law  Hrayr Tovmasyan  Either president of Constitutional Court must step down or constitutional reforms are possible  Lena Nazaryan\n",
       "   Adorable piglet squid spotted 1000 miles south of Hawaii by scientists on a deep sea expedition 4500 feet below sea level  Armenias Supreme Judicial Council elects new president  BMW names new CEO to catch up with rivals  Armenian parliament speaker meets with US Congress members in Washington  Excluding Turkey from F35 program to weaken NATOs southern flank  minister  Most passengers of evacuated MoscowYerevan plane flown to Yerevan  Explosion outside Kabul University kills 6 wounding 27  Armenian MP calls for joint mechanisms to fight hate speech online\n",
       "   Ardshinbank announces the contest results  Past Artsakh political forces considering plans for united presidential nominee  Trump US Navy ship destroyed an Iranian drone  South Korean man sets self on Fire near Japan Embassy  Azerbaijani media misrepresent UN Special Rapporteurs statement  US destroys Iranian drones in Strait of Hormuz  Yerevanbound plane evacuated at Moscow airport due to strange smell\")"
      ]
     },
     "execution_count": 16,
     "metadata": {},
     "output_type": "execute_result"
    }
   ],
   "source": [
    "news_blob"
   ]
  },
  {
   "cell_type": "code",
   "execution_count": 17,
   "metadata": {},
   "outputs": [
    {
     "data": {
      "text/plain": [
       "1002"
      ]
     },
     "execution_count": 17,
     "metadata": {},
     "output_type": "execute_result"
    }
   ],
   "source": [
    "len(news_blob.words)"
   ]
  },
  {
   "cell_type": "code",
   "execution_count": 18,
   "metadata": {},
   "outputs": [],
   "source": [
    "words = news_blob.words.lower()"
   ]
  },
  {
   "cell_type": "code",
   "execution_count": 19,
   "metadata": {
    "collapsed": true
   },
   "outputs": [
    {
     "data": {
      "text/plain": [
       "WordList(['oil', 'on', 'track', 'for', 'weekly', 'gain', 'as', 'iran', 'tensions', 'support', '6yearold', 'south', 'korean', 'youtuber', 'buys', '8', 'million', 'property', 'disagreements', 'and', 'problems', 'must', 'be', 'the', 'topic', 'of', 'our', 'discussions', 'but', 'never', 'the', 'individuals', 'armen', 'sarkissian', 'palestinians', 'to', 'scrap', 'agreements', 'with', 'israel', 'armenian', 'authorities', 'transitional', 'justice', 'plan', 'extra', 'threat', 'to', 'media', 'analyst', 'foreign', 'ministry', 'negotiating', 'with', 'armenian', 'embassy', 'to', 'egypt', 'to', 'arrange', 'stranded', 'tourists', 'return', 'iran', 'fires', 'ballistic', 'missile', '1000km', 'in', 'provocative', 'test', 'amid', 'tensions', 'with', 'us', 'and', 'uk', 'iranian', 'smuggler', 'arrested', 'on', 'armenias', 'customs', 'border', 'aravot', 'armenia', 'us', 'far', 'from', 'strategic', 'dialogue', 'says', 'parliament', 'member', 'argentine', 'boxer', 'hugo', 'santillan', 'dies', 'after', 'boxing', 'injuries', 'armenian', 'genocide', 'documentary', 'nominated', 'for', 'emmy', 'north', 'korea', 'missile', 'launch', 'a', 'warning', 'to', 'south', 'korean', 'warmongers', 'armenia', 'to', 'participate', 'in', 'dubai', 'expo', '2020', 'french', 'inventor', 'crashes', 'into', 'water', 'during', 'failed', 'flight', 'across', 'english', 'channel', 'on', '90mph', 'hoverboard', 'european', 'court', 'orders', 'armenia', 'to', 'pay', '€1600000', 'in', 'compensation', 'for', 'citizens', 'alienated', 'property', 'rights', 'sevan', 'startup', 'summit', 'to', 'be', 'open', 'to', 'public', 'for', 'the', 'first', 'time', 'ever', 'in', '2019', 'boris', 'johnson', 'promises', 'bold', 'new', 'brexit', 'deal', 'hurghadayerevan', 'flight', 'canceled', 'due', 'to', 'tour', 'operators', 'failure', 'to', 'pay', 'fees', 'tunisian', 'president', 'beji', 'caid', 'essebsi', 'dies', 'aged', '92', 'armenian', 'passengers', 'stranded', 'at', 'egyptian', 'airport', 'amid', 'cancelled', 'flight', 'russian', 'state', 'duma', 'ratifies', 'amendments', 'to', 'csto', 'charter', 'spacexs', 'starhopper', 'rocket', 'prototype', 'aborts', '1st', 'untethered', 'hop', 'attempt', 'armenian', 'parliamentary', 'delegations', 'meetings', 'with', 'top', 'us', 'legislators', 'reflects', 'congress', 'leaderships', 'positive', 'attitude', 'analyst', 'jennifer', 'lopez', 'given', 'porsche', 'from', 'her', 'adoring', 'fiance', 'alex', 'rodriguez', 'as', 'she', 'celebrates', 'milestone', '50th', 'birthday', 'in', 'miami', 'north', 'korea', 'fires', 'new', 'shortrange', 'missile', 'into', 'sea', 'south', 'korea', 'says', 'ardshinbank', 'offers', 'new', 'terms', 'for', 'loans', 'with', 'real', 'estate', 'loans', 'pledge', 'armenian', 'georgian', 'foreign', 'ministers', 'meet', 'in', 'tbilisi', 'armenian', 'iranian', 'ministers', 'discuss', 'cooperation', 'in', 'it', 'sector', 'rihanna', 'shares', 'photo', 'of', 'younger', 'lookalike', 'europe', 'braces', 'for', 'second', 'heatwave', 'this', 'summer', 'iran', 'vows', 'to', 'shoot', 'down', 'more', 'us', 'drones', 'and', 'mockingly', 'portrays', 'british', 'prime', 'minister', 'johnson', 'as', 'trumps', 'butler', 'in', 'escalating', 'crisis', 'russia', 'starts', 'largescale', 'military', 'exercise', 'in', 'georgia', 'kim', 'kardashian', 'west', 'saddened', 'by', 'photographers', 'alleged', 'misconduct', 'nissan', 'to', 'cut', 'over', '10000', 'jobs', 'globally', 'nikes', 'rare', 'moon', 'shoe', 'sold', 'for', '437500', 'shattering', 'the', 'auction', 'record', 'for', 'sneakers', 'alibaba', 'opens', 'door', 'to', 'us', 'sellers', 'on', 'its', 'oldest', 'platform', 'us', 'and', 'turkey', 'start', 'syria', 'security', 'zone', 'talks', 'queen', 'elizabeths', 'favorite', 'tv', 'show', 'revealed', 'bohemian', 'rhapsody', 'becomes', 'the', 'oldest', 'video', 'to', 'get', '1bn', 'views', 'supreme', 'judicial', 'council', 'hosts', 'members', 'of', 'un', 'expert', 'group', 'armenian', 'arrested', 'in', 'turkey', 'on', 'suspicion', 'of', 'smuggling', 'us', 'army', 'secretary', 'mark', 'esper', 'sworn', 'in', 'as', 'pentagon', 'chief', 'messi', 'banned', 'fined', 'for', 'copa', 'america', 'red', 'card', 'artsakh', 'soldier', 'fatally', 'wounded', 'in', 'military', 'post', 'montreal', 'school', 'buses', 'catches', 'fire', 'in', '3vehicle', 'crash', 'dozens', 'of', 'children', 'aboard', 'warplanes', 'from', 'four', 'countries', 'involved', 'in', 'faceoff', 'in', 'asian', 'confrontation', 'us', 'senate', 'extends', '9/11', 'victim', 'compensation', 'fund', 'woburn', 'elephants', 'in', 'safari', 'park', 'stay', 'cool', 'with', 'ice', 'sculpture', 'likeness', 'passengers', 'stuck', 'at', 'yerevan', 'airport', 'amid', 'reports', 'of', 'cancelled', 'flight', 'to', 'sharm', 'el', 'sheikh', 'boris', 'johnson', 'wins', 'race', 'to', 'be', 'britains', 'prime', 'minister', 'once', 'upon', 'a', 'time', 'in', 'hollywood', 'premiers', 'in', 'los', 'angeles', 'russia', 'to', 'ease', 'citizenship', 'rules', 'for', 'armenians', 'ardshinbank', 'publishes', '2019', 'q2', 'results', 'with', 'record', 'profit', 'growth', 'worlds', 'shortest', 'iq', 'test', 'has', '3', 'questions', 'but', '80', 'failure', 'rate', 'margaret', 'thatchers', 'prized', 'possessions', 'emerge', 'for', 'sale', 'in', 'the', 'u.s', 'for', '£30000', 'armenian', 'border', 'village', 'included', 'in', 'ecovillages', 'development', 'plan', 'northern', 'ireland', 'legislators', 'back', 'samesex', 'marriage', 'and', 'law', 'on', 'abortion', 'turkey', 'ready', 'to', 'carry', 'out', 'another', 'military', 'operation', 'in', 'syria', 'if', 'needed', 'trump', 'says', 'he', 'could', 'win', 'afghan', 'war', 'in', 'a', 'week', 'but', 'doesnt', 'want', 'to', 'kill', '10', 'million', 'people', 'russia', 'reports', 'drastic', 'increase', 'in', 'armenian', 'immigrants', 'number', 'football', 'liverpoollinked', 'fekir', 'completes', 'transfer', 'to', 'real', 'betis', 'azerbaijani', 'brandy', 'and', 'wine', 'products', 'honoring', 'armenian', 'cities', 'venezuela', 'blackout', 'power', 'cuts', 'plunge', 'country', 'into', 'darkness', 'venice', 'commission', 'and', 'european', 'court', 'enjoy', 'advisory', 'status', 'without', 'legally', 'binding', 'role', 'expert', 'zhamanak', 'bright', 'armenia', 'proposing', 'plan', 'to', 'bridge', 'legislative', 'gap', 'titanic', 'survivors', 'walking', 'stick', 'goes', 'for', '62500', 'at', 'auction', 'if', 'lowcost', 'airlines', 'come', 'to', 'yerevan', 'i', 'would', 'question', 'the', 'future', 'of', 'gyumri', 'shirak', 'airport', 'marcelo', 'wende', 'arsenal', 'offer', 'reiss', 'nelson', 'on', 'loan', 'in', '£65m', 'bid', 'for', 'crystal', 'palace', 'ace', 'wilfried', 'zaha', 'armenia', 'interesting', 'country', 'for', 'investments', 'says', 'israeli', 'vlogger', 'ardshinbank', 'announces', 'changes', 'to', 'supervisory', 'board', 'armenia', 'education', 'minister', 'hosts', 'delegation', 'from', 'to', 'weihenstephantriesdorf', 'university', 'armenian', 'defense', 'minister', 'pledges', 'military', 'surprises', 'amid', 'plans', 'to', 'purchase', 'russian', 'fighters', 'nikol', 'pashinyan', 'we', 'need', 'efficient', 'armybuilding', 'to', 'hit', 'back', 'at', 'adversaries', 'europe', 'stocks', 'gain', 'oil', 'jumps', 'on', 'middle', 'east', 'tensions', 'avengers', 'endgame', 'set', 'to', 'pass', 'avatar', 'as', 'top', 'movie', 'netanyahu', 'named', 'israels', 'longestserving', 'prime', 'minister', 'switalski', 'eu', 'willing', 'to', 'offer', 'armenia', 'measurable', 'financial', 'means', 'to', 'assist', 'in', 'justice', 'reforms', 'un', 'nuclear', 'watchdog', 'chief', 'yukiya', 'amano', 'dies', 'french', 'inventor', 'to', 'attempt', 'to', 'cross', 'channel', 'on', 'jetpowered', 'flyboard', 'lightning', 'strike', 'at', 'florida', 'beach', 'leaves', '8', 'injured', 'india', 'set', 'to', 'reattempt', 'moon', 'mission', 'launch', 'armed', 'mob', 'storms', 'hong', 'kong', 'train', 'station', 'leaving', 'city', 'in', 'shock', 'ukrainian', 'president', 'zelenskys', 'party', 'heads', 'for', 'win', 'in', 'presidential', 'election', 'politically', 'motivated', 'call', 'for', 'judiciary', 'officials', 'resignation', 'unrelated', 'to', 'country', 'governed', 'by', 'rule', 'of', 'law', 'hrayr', 'tovmasyan', 'either', 'president', 'of', 'constitutional', 'court', 'must', 'step', 'down', 'or', 'constitutional', 'reforms', 'are', 'possible', 'lena', 'nazaryan', 'adorable', 'piglet', 'squid', 'spotted', '1000', 'miles', 'south', 'of', 'hawaii', 'by', 'scientists', 'on', 'a', 'deep', 'sea', 'expedition', '4500', 'feet', 'below', 'sea', 'level', 'armenias', 'supreme', 'judicial', 'council', 'elects', 'new', 'president', 'bmw', 'names', 'new', 'ceo', 'to', 'catch', 'up', 'with', 'rivals', 'armenian', 'parliament', 'speaker', 'meets', 'with', 'us', 'congress', 'members', 'in', 'washington', 'excluding', 'turkey', 'from', 'f35', 'program', 'to', 'weaken', 'natos', 'southern', 'flank', 'minister', 'most', 'passengers', 'of', 'evacuated', 'moscowyerevan', 'plane', 'flown', 'to', 'yerevan', 'explosion', 'outside', 'kabul', 'university', 'kills', '6', 'wounding', '27', 'armenian', 'mp', 'calls', 'for', 'joint', 'mechanisms', 'to', 'fight', 'hate', 'speech', 'online', 'ardshinbank', 'announces', 'the', 'contest', 'results', 'past', 'artsakh', 'political', 'forces', 'considering', 'plans', 'for', 'united', 'presidential', 'nominee', 'trump', 'us', 'navy', 'ship', 'destroyed', 'an', 'iranian', 'drone', 'south', 'korean', 'man', 'sets', 'self', 'on', 'fire', 'near', 'japan', 'embassy', 'azerbaijani', 'media', 'misrepresent', 'un', 'special', 'rapporteurs', 'statement', 'us', 'destroys', 'iranian', 'drones', 'in', 'strait', 'of', 'hormuz', 'yerevanbound', 'plane', 'evacuated', 'at', 'moscow', 'airport', 'due', 'to', 'strange', 'smell'])"
      ]
     },
     "execution_count": 19,
     "metadata": {},
     "output_type": "execute_result"
    }
   ],
   "source": [
    "words"
   ]
  },
  {
   "cell_type": "code",
   "execution_count": 20,
   "metadata": {},
   "outputs": [],
   "source": [
    "i = 0\n",
    "while i <995:\n",
    "    if words[i] != \"us\":\n",
    "        words[i] = words[i].lemmatize(\"v\")\n",
    "        words[i] = words[i].lemmatize(\"n\")\n",
    "    i += 1"
   ]
  },
  {
   "cell_type": "code",
   "execution_count": 21,
   "metadata": {
    "collapsed": true
   },
   "outputs": [
    {
     "data": {
      "text/plain": [
       "WordList(['oil', 'on', 'track', 'for', 'weekly', 'gain', 'a', 'iran', 'tension', 'support', '6yearold', 'south', 'korean', 'youtuber', 'buy', '8', 'million', 'property', 'disagreement', 'and', 'problem', 'must', 'be', 'the', 'topic', 'of', 'our', 'discussion', 'but', 'never', 'the', 'individual', 'armen', 'sarkissian', 'palestinian', 'to', 'scrap', 'agreement', 'with', 'israel', 'armenian', 'authority', 'transitional', 'justice', 'plan', 'extra', 'threat', 'to', 'medium', 'analyst', 'foreign', 'ministry', 'negotiate', 'with', 'armenian', 'embassy', 'to', 'egypt', 'to', 'arrange', 'strand', 'tourist', 'return', 'iran', 'fire', 'ballistic', 'missile', '1000km', 'in', 'provocative', 'test', 'amid', 'tension', 'with', 'us', 'and', 'uk', 'iranian', 'smuggler', 'arrest', 'on', 'armenia', 'custom', 'border', 'aravot', 'armenia', 'us', 'far', 'from', 'strategic', 'dialogue', 'say', 'parliament', 'member', 'argentine', 'boxer', 'hugo', 'santillan', 'die', 'after', 'box', 'injury', 'armenian', 'genocide', 'documentary', 'nominate', 'for', 'emmy', 'north', 'korea', 'missile', 'launch', 'a', 'warn', 'to', 'south', 'korean', 'warmonger', 'armenia', 'to', 'participate', 'in', 'dubai', 'expo', '2020', 'french', 'inventor', 'crash', 'into', 'water', 'during', 'fail', 'flight', 'across', 'english', 'channel', 'on', '90mph', 'hoverboard', 'european', 'court', 'order', 'armenia', 'to', 'pay', '€1600000', 'in', 'compensation', 'for', 'citizen', 'alienate', 'property', 'right', 'sevan', 'startup', 'summit', 'to', 'be', 'open', 'to', 'public', 'for', 'the', 'first', 'time', 'ever', 'in', '2019', 'boris', 'johnson', 'promise', 'bold', 'new', 'brexit', 'deal', 'hurghadayerevan', 'flight', 'cancel', 'due', 'to', 'tour', 'operator', 'failure', 'to', 'pay', 'fee', 'tunisian', 'president', 'beji', 'caid', 'essebsi', 'die', 'age', '92', 'armenian', 'passenger', 'strand', 'at', 'egyptian', 'airport', 'amid', 'cancel', 'flight', 'russian', 'state', 'duma', 'ratify', 'amendment', 'to', 'csto', 'charter', 'spacexs', 'starhopper', 'rocket', 'prototype', 'abort', '1st', 'untethered', 'hop', 'attempt', 'armenian', 'parliamentary', 'delegation', 'meet', 'with', 'top', 'us', 'legislator', 'reflect', 'congress', 'leadership', 'positive', 'attitude', 'analyst', 'jennifer', 'lopez', 'give', 'porsche', 'from', 'her', 'adore', 'fiance', 'alex', 'rodriguez', 'a', 'she', 'celebrate', 'milestone', '50th', 'birthday', 'in', 'miami', 'north', 'korea', 'fire', 'new', 'shortrange', 'missile', 'into', 'sea', 'south', 'korea', 'say', 'ardshinbank', 'offer', 'new', 'term', 'for', 'loan', 'with', 'real', 'estate', 'loan', 'pledge', 'armenian', 'georgian', 'foreign', 'minister', 'meet', 'in', 'tbilisi', 'armenian', 'iranian', 'minister', 'discus', 'cooperation', 'in', 'it', 'sector', 'rihanna', 'share', 'photo', 'of', 'younger', 'lookalike', 'europe', 'brace', 'for', 'second', 'heatwave', 'this', 'summer', 'iran', 'vow', 'to', 'shoot', 'down', 'more', 'us', 'drone', 'and', 'mockingly', 'portray', 'british', 'prime', 'minister', 'johnson', 'a', 'trump', 'butler', 'in', 'escalate', 'crisis', 'russia', 'start', 'largescale', 'military', 'exercise', 'in', 'georgia', 'kim', 'kardashian', 'west', 'sadden', 'by', 'photographer', 'allege', 'misconduct', 'nissan', 'to', 'cut', 'over', '10000', 'job', 'globally', 'nike', 'rare', 'moon', 'shoe', 'sell', 'for', '437500', 'shatter', 'the', 'auction', 'record', 'for', 'sneaker', 'alibaba', 'open', 'door', 'to', 'us', 'seller', 'on', 'it', 'oldest', 'platform', 'us', 'and', 'turkey', 'start', 'syria', 'security', 'zone', 'talk', 'queen', 'elizabeth', 'favorite', 'tv', 'show', 'reveal', 'bohemian', 'rhapsody', 'become', 'the', 'oldest', 'video', 'to', 'get', '1bn', 'view', 'supreme', 'judicial', 'council', 'host', 'member', 'of', 'un', 'expert', 'group', 'armenian', 'arrest', 'in', 'turkey', 'on', 'suspicion', 'of', 'smuggle', 'us', 'army', 'secretary', 'mark', 'esper', 'swear', 'in', 'a', 'pentagon', 'chief', 'messi', 'ban', 'fin', 'for', 'copa', 'america', 'red', 'card', 'artsakh', 'soldier', 'fatally', 'wound', 'in', 'military', 'post', 'montreal', 'school', 'bus', 'catch', 'fire', 'in', '3vehicle', 'crash', 'dozen', 'of', 'child', 'aboard', 'warplane', 'from', 'four', 'country', 'involve', 'in', 'faceoff', 'in', 'asian', 'confrontation', 'us', 'senate', 'extend', '9/11', 'victim', 'compensation', 'fund', 'woburn', 'elephant', 'in', 'safari', 'park', 'stay', 'cool', 'with', 'ice', 'sculpture', 'liken', 'passenger', 'stick', 'at', 'yerevan', 'airport', 'amid', 'report', 'of', 'cancel', 'flight', 'to', 'sharm', 'el', 'sheikh', 'boris', 'johnson', 'win', 'race', 'to', 'be', 'britain', 'prime', 'minister', 'once', 'upon', 'a', 'time', 'in', 'hollywood', 'premier', 'in', 'los', 'angeles', 'russia', 'to', 'ease', 'citizenship', 'rule', 'for', 'armenian', 'ardshinbank', 'publish', '2019', 'q2', 'result', 'with', 'record', 'profit', 'growth', 'world', 'shortest', 'iq', 'test', 'have', '3', 'question', 'but', '80', 'failure', 'rate', 'margaret', 'thatcher', 'prize', 'possession', 'emerge', 'for', 'sale', 'in', 'the', 'u.s', 'for', '£30000', 'armenian', 'border', 'village', 'include', 'in', 'ecovillages', 'development', 'plan', 'northern', 'ireland', 'legislator', 'back', 'samesex', 'marriage', 'and', 'law', 'on', 'abortion', 'turkey', 'ready', 'to', 'carry', 'out', 'another', 'military', 'operation', 'in', 'syria', 'if', 'need', 'trump', 'say', 'he', 'could', 'win', 'afghan', 'war', 'in', 'a', 'week', 'but', 'doesnt', 'want', 'to', 'kill', '10', 'million', 'people', 'russia', 'report', 'drastic', 'increase', 'in', 'armenian', 'immigrant', 'number', 'football', 'liverpoollinked', 'fekir', 'complete', 'transfer', 'to', 'real', 'betis', 'azerbaijani', 'brandy', 'and', 'wine', 'product', 'honor', 'armenian', 'city', 'venezuela', 'blackout', 'power', 'cut', 'plunge', 'country', 'into', 'darkness', 'venice', 'commission', 'and', 'european', 'court', 'enjoy', 'advisory', 'status', 'without', 'legally', 'bind', 'role', 'expert', 'zhamanak', 'bright', 'armenia', 'propose', 'plan', 'to', 'bridge', 'legislative', 'gap', 'titanic', 'survivor', 'walk', 'stick', 'go', 'for', '62500', 'at', 'auction', 'if', 'lowcost', 'airline', 'come', 'to', 'yerevan', 'i', 'would', 'question', 'the', 'future', 'of', 'gyumri', 'shirak', 'airport', 'marcelo', 'wende', 'arsenal', 'offer', 'reiss', 'nelson', 'on', 'loan', 'in', '£65m', 'bid', 'for', 'crystal', 'palace', 'ace', 'wilfried', 'zaha', 'armenia', 'interest', 'country', 'for', 'investment', 'say', 'israeli', 'vlogger', 'ardshinbank', 'announce', 'change', 'to', 'supervisory', 'board', 'armenia', 'education', 'minister', 'host', 'delegation', 'from', 'to', 'weihenstephantriesdorf', 'university', 'armenian', 'defense', 'minister', 'pledge', 'military', 'surprise', 'amid', 'plan', 'to', 'purchase', 'russian', 'fighter', 'nikol', 'pashinyan', 'we', 'need', 'efficient', 'armybuilding', 'to', 'hit', 'back', 'at', 'adversary', 'europe', 'stock', 'gain', 'oil', 'jump', 'on', 'middle', 'east', 'tension', 'avenger', 'endgame', 'set', 'to', 'pas', 'avatar', 'a', 'top', 'movie', 'netanyahu', 'name', 'israel', 'longestserving', 'prime', 'minister', 'switalski', 'eu', 'will', 'to', 'offer', 'armenia', 'measurable', 'financial', 'mean', 'to', 'assist', 'in', 'justice', 'reform', 'un', 'nuclear', 'watchdog', 'chief', 'yukiya', 'amano', 'die', 'french', 'inventor', 'to', 'attempt', 'to', 'cross', 'channel', 'on', 'jetpowered', 'flyboard', 'lightning', 'strike', 'at', 'florida', 'beach', 'leave', '8', 'injure', 'india', 'set', 'to', 'reattempt', 'moon', 'mission', 'launch', 'arm', 'mob', 'storm', 'hong', 'kong', 'train', 'station', 'leave', 'city', 'in', 'shock', 'ukrainian', 'president', 'zelenskys', 'party', 'head', 'for', 'win', 'in', 'presidential', 'election', 'politically', 'motivate', 'call', 'for', 'judiciary', 'official', 'resignation', 'unrelated', 'to', 'country', 'govern', 'by', 'rule', 'of', 'law', 'hrayr', 'tovmasyan', 'either', 'president', 'of', 'constitutional', 'court', 'must', 'step', 'down', 'or', 'constitutional', 'reform', 'be', 'possible', 'lena', 'nazaryan', 'adorable', 'piglet', 'squid', 'spot', '1000', 'mile', 'south', 'of', 'hawaii', 'by', 'scientist', 'on', 'a', 'deep', 'sea', 'expedition', '4500', 'foot', 'below', 'sea', 'level', 'armenia', 'supreme', 'judicial', 'council', 'elect', 'new', 'president', 'bmw', 'name', 'new', 'ceo', 'to', 'catch', 'up', 'with', 'rival', 'armenian', 'parliament', 'speaker', 'meet', 'with', 'us', 'congress', 'member', 'in', 'washington', 'exclude', 'turkey', 'from', 'f35', 'program', 'to', 'weaken', 'nato', 'southern', 'flank', 'minister', 'most', 'passenger', 'of', 'evacuate', 'moscowyerevan', 'plane', 'fly', 'to', 'yerevan', 'explosion', 'outside', 'kabul', 'university', 'kill', '6', 'wound', '27', 'armenian', 'mp', 'call', 'for', 'joint', 'mechanism', 'to', 'fight', 'hate', 'speech', 'online', 'ardshinbank', 'announce', 'the', 'contest', 'result', 'past', 'artsakh', 'political', 'force', 'consider', 'plan', 'for', 'unite', 'presidential', 'nominee', 'trump', 'us', 'navy', 'ship', 'destroy', 'an', 'iranian', 'drone', 'south', 'korean', 'man', 'set', 'self', 'on', 'fire', 'near', 'japan', 'embassy', 'azerbaijani', 'medium', 'misrepresent', 'un', 'special', 'rapporteur', 'statement', 'us', 'destroy', 'iranian', 'drone', 'in', 'strait', 'of', 'hormuz', 'yerevanbound', 'plane', 'evacuate', 'at', 'moscow', 'airport', 'due', 'to', 'strange', 'smell'])"
      ]
     },
     "execution_count": 21,
     "metadata": {},
     "output_type": "execute_result"
    }
   ],
   "source": [
    "words"
   ]
  },
  {
   "cell_type": "code",
   "execution_count": 22,
   "metadata": {},
   "outputs": [],
   "source": [
    "without_sw = [i for i in words if i not in sw]"
   ]
  },
  {
   "cell_type": "code",
   "execution_count": 23,
   "metadata": {},
   "outputs": [
    {
     "data": {
      "text/plain": [
       "808"
      ]
     },
     "execution_count": 23,
     "metadata": {},
     "output_type": "execute_result"
    }
   ],
   "source": [
    "len(without_sw)"
   ]
  },
  {
   "cell_type": "code",
   "execution_count": 24,
   "metadata": {
    "scrolled": true
   },
   "outputs": [
    {
     "data": {
      "text/plain": [
       "[('armenian', 15),\n",
       " ('us', 11),\n",
       " ('armenia', 9),\n",
       " ('minister', 8),\n",
       " ('south', 5),\n",
       " ('plan', 5),\n",
       " ('new', 5),\n",
       " ('fire', 4),\n",
       " ('amid', 4),\n",
       " ('iranian', 4)]"
      ]
     },
     "execution_count": 24,
     "metadata": {},
     "output_type": "execute_result"
    }
   ],
   "source": [
    "Counter(without_sw).most_common(10)"
   ]
  },
  {
   "cell_type": "code",
   "execution_count": 25,
   "metadata": {},
   "outputs": [],
   "source": [
    "df = pd.DataFrame(without_sw)"
   ]
  },
  {
   "cell_type": "code",
   "execution_count": 26,
   "metadata": {
    "scrolled": true
   },
   "outputs": [
    {
     "data": {
      "text/plain": [
       "armenian     15\n",
       "us           11\n",
       "armenia       9\n",
       "minister      8\n",
       "new           5\n",
       "plan          5\n",
       "south         5\n",
       "president     4\n",
       "country       4\n",
       "military      4\n",
       "Name: 0, dtype: int64"
      ]
     },
     "execution_count": 26,
     "metadata": {},
     "output_type": "execute_result"
    }
   ],
   "source": [
    "df[0].value_counts().sort_values(ascending=False)[:10]"
   ]
  },
  {
   "cell_type": "markdown",
   "metadata": {},
   "source": [
    "#  1-2 There are 3 Armenian surnames in titles"
   ]
  },
  {
   "cell_type": "code",
   "execution_count": 27,
   "metadata": {},
   "outputs": [],
   "source": [
    "surnames = [i for i in [re.findall(\"[A-Z]+[a-z]*yan\",n) for n in news] if i]   "
   ]
  },
  {
   "cell_type": "code",
   "execution_count": 28,
   "metadata": {},
   "outputs": [
    {
     "data": {
      "text/plain": [
       "[['Pashinyan'], ['Tovmasyan'], ['Nazaryan']]"
      ]
     },
     "execution_count": 28,
     "metadata": {},
     "output_type": "execute_result"
    }
   ],
   "source": [
    "surnames"
   ]
  },
  {
   "cell_type": "code",
   "execution_count": 29,
   "metadata": {},
   "outputs": [
    {
     "data": {
      "text/plain": [
       "3"
      ]
     },
     "execution_count": 29,
     "metadata": {},
     "output_type": "execute_result"
    }
   ],
   "source": [
    "len(surnames)"
   ]
  },
  {
   "cell_type": "markdown",
   "metadata": {},
   "source": [
    "# 1-3 Most of the articles are equally published from 10:00 to 10:59 and 12:00 to 12:59"
   ]
  },
  {
   "cell_type": "code",
   "execution_count": 30,
   "metadata": {
    "collapsed": true
   },
   "outputs": [
    {
     "data": {
      "text/plain": [
       "['15:43',\n",
       " '15:09',\n",
       " '14:37',\n",
       " '14:14',\n",
       " '13:38',\n",
       " '12:11',\n",
       " '11:44',\n",
       " '11:34',\n",
       " '10:59',\n",
       " '10:08',\n",
       " '09:46',\n",
       " '09:15',\n",
       " '18:11',\n",
       " '17:38',\n",
       " '17:26',\n",
       " '16:49',\n",
       " '16:12',\n",
       " '15:51',\n",
       " '15:10',\n",
       " '14:58',\n",
       " '14:21',\n",
       " '13:49',\n",
       " '13:00',\n",
       " '11:28',\n",
       " '11:20',\n",
       " '11:13',\n",
       " '16:11',\n",
       " '15:59',\n",
       " '15:42',\n",
       " '15:18',\n",
       " '15:07',\n",
       " '14:48',\n",
       " '13:46',\n",
       " '13:30',\n",
       " '13:17',\n",
       " '13:06',\n",
       " '12:29',\n",
       " '12:25',\n",
       " '12:13',\n",
       " '12:00',\n",
       " '11:06',\n",
       " '10:43',\n",
       " '10:28',\n",
       " '10:24',\n",
       " '10:11',\n",
       " '09:48',\n",
       " '09:35',\n",
       " '09:11',\n",
       " '18:17',\n",
       " '17:16',\n",
       " '16:29',\n",
       " '15:28',\n",
       " '15:09',\n",
       " '14:27',\n",
       " '13:42',\n",
       " '13:36',\n",
       " '13:15',\n",
       " '12:56',\n",
       " '12:31',\n",
       " '12:12',\n",
       " '11:39',\n",
       " '11:22',\n",
       " '10:47',\n",
       " '10:22',\n",
       " '09:33',\n",
       " '09:17',\n",
       " '19:37',\n",
       " '18:08',\n",
       " '16:42',\n",
       " '16:10',\n",
       " '15:30',\n",
       " '14:47',\n",
       " '14:13',\n",
       " '13:30',\n",
       " '12:53',\n",
       " '12:44',\n",
       " '12:14',\n",
       " '11:30',\n",
       " '11:07',\n",
       " '10:44',\n",
       " '10:12',\n",
       " '09:47',\n",
       " '09:17',\n",
       " '16:47',\n",
       " '10:58',\n",
       " '15:22',\n",
       " '14:56',\n",
       " '14:31',\n",
       " '14:18',\n",
       " '14:04',\n",
       " '13:53',\n",
       " '12:40',\n",
       " '12:21',\n",
       " '12:12',\n",
       " '11:16',\n",
       " '10:53',\n",
       " '10:36',\n",
       " '10:24',\n",
       " '09:32',\n",
       " '09:16']"
      ]
     },
     "execution_count": 30,
     "metadata": {},
     "output_type": "execute_result"
    }
   ],
   "source": [
    "pub_time"
   ]
  },
  {
   "cell_type": "code",
   "execution_count": 31,
   "metadata": {},
   "outputs": [],
   "source": [
    "h = [re.findall(\"^\\d\\d\",i) for i in pub_time]"
   ]
  },
  {
   "cell_type": "code",
   "execution_count": 32,
   "metadata": {},
   "outputs": [],
   "source": [
    "hours = [''.join(i) for i in h]"
   ]
  },
  {
   "cell_type": "code",
   "execution_count": 33,
   "metadata": {},
   "outputs": [
    {
     "data": {
      "text/plain": [
       "[('12', 14),\n",
       " ('10', 14),\n",
       " ('15', 12),\n",
       " ('14', 12),\n",
       " ('13', 12),\n",
       " ('11', 11),\n",
       " ('09', 11),\n",
       " ('16', 7),\n",
       " ('18', 3),\n",
       " ('17', 3),\n",
       " ('19', 1)]"
      ]
     },
     "execution_count": 33,
     "metadata": {},
     "output_type": "execute_result"
    }
   ],
   "source": [
    "Counter(hours).most_common()"
   ]
  },
  {
   "cell_type": "code",
   "execution_count": 34,
   "metadata": {},
   "outputs": [
    {
     "data": {
      "text/plain": [
       "'12'"
      ]
     },
     "execution_count": 34,
     "metadata": {},
     "output_type": "execute_result"
    }
   ],
   "source": [
    "max(set(hours),key = hours.count)"
   ]
  },
  {
   "cell_type": "code",
   "execution_count": null,
   "metadata": {},
   "outputs": [],
   "source": []
  }
 ],
 "metadata": {
  "kernelspec": {
   "display_name": "Python 3",
   "language": "python",
   "name": "python3"
  },
  "language_info": {
   "codemirror_mode": {
    "name": "ipython",
    "version": 3
   },
   "file_extension": ".py",
   "mimetype": "text/x-python",
   "name": "python",
   "nbconvert_exporter": "python",
   "pygments_lexer": "ipython3",
   "version": "3.7.3"
  }
 },
 "nbformat": 4,
 "nbformat_minor": 2
}
